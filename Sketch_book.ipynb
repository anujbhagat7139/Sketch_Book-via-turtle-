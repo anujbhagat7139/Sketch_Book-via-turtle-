{
 "cells": [
  {
   "cell_type": "code",
   "execution_count": 1,
   "id": "0cb43c61",
   "metadata": {},
   "outputs": [],
   "source": [
    "from turtle import Turtle, Screen\n",
    "\n",
    "tim = Turtle()\n",
    "screen = Screen()\n",
    "\n",
    "\n",
    "def forward():\n",
    "    tim.forward(10)\n",
    "\n",
    "\n",
    "def backward():\n",
    "    tim.backward(10)\n",
    "\n",
    "\n",
    "def right():\n",
    "    tim.right(15)\n",
    "\n",
    "\n",
    "def left():\n",
    "    tim.left(15)\n",
    "\n",
    "\n",
    "def clear():\n",
    "    tim.clear()\n",
    "\n",
    "\n",
    "def size():\n",
    "    tim.pensize(5)\n",
    "\n",
    "\n",
    "screen.listen()\n",
    "screen.onkey(key=\"w\", fun=forward)\n",
    "screen.onkey(key=\"s\", fun=backward)\n",
    "screen.onkey(key=\"d\", fun=right)\n",
    "screen.onkey(key=\"a\", fun=left)\n",
    "screen.onkey(key=\"c\", fun=clear)\n",
    "screen.onkey(key=\"b\", fun=size)\n",
    "\n",
    "screen.exitonclick()"
   ]
  },
  {
   "cell_type": "code",
   "execution_count": null,
   "id": "44857908",
   "metadata": {},
   "outputs": [],
   "source": []
  }
 ],
 "metadata": {
  "kernelspec": {
   "display_name": "Python 3 (ipykernel)",
   "language": "python",
   "name": "python3"
  },
  "language_info": {
   "codemirror_mode": {
    "name": "ipython",
    "version": 3
   },
   "file_extension": ".py",
   "mimetype": "text/x-python",
   "name": "python",
   "nbconvert_exporter": "python",
   "pygments_lexer": "ipython3",
   "version": "3.9.12"
  }
 },
 "nbformat": 4,
 "nbformat_minor": 5
}
